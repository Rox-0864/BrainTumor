{
 "cells": [
  {
   "cell_type": "markdown",
   "id": "98854bc0",
   "metadata": {},
   "source": [
    "# Bloque 1: Configuración Inicial y Carga de Datos 📂\n",
    "\n",
    "Comenzamos importando las herramientas necesarias. Aunque se utilizan varias librerías para el análisis, visualización y métricas, **TensorFlow** (junto con su API Keras) es el pilar para la construcción y entrenamiento de nuestro modelo de Deep Learning. También se emplean librerías como Pandas para la manipulación de datos y OS para interactuar con el sistema de archivos."
   ]
  },
  {
   "cell_type": "code",
   "execution_count": null,
   "id": "9ad82526",
   "metadata": {
    "vscode": {
     "languageId": "plaintext"
    }
   },
   "outputs": [],
   "source": [
    "import numpy as np\n",
    "import pandas as pd\n",
    "import os\n",
    "import matplotlib.pyplot as plt\n",
    "import seaborn as sns\n",
    "import cv2\n",
    "\n",
    "# Librerías de Scikit-learn para preprocesamiento y métricas\n",
    "from sklearn.model_selection import train_test_split\n",
    "from sklearn.preprocessing import LabelEncoder\n",
    "from sklearn.metrics import confusion_matrix, classification_report, roc_curve, auc\n",
    "\n",
    "# Imbalanced-learn para manejar desbalance de clases\n",
    "from imblearn.over_sampling import RandomOverSampler"
   ]
  },
  {
   "cell_type": "code",
   "execution_count": null,
   "id": "2748d25b",
   "metadata": {
    "vscode": {
     "languageId": "plaintext"
    }
   },
   "outputs": [],
   "source": [
    "\n",
    "# Componentes de TensorFlow y Keras\n",
    "import tensorflow as tf\n",
    "from tensorflow.keras import layers, Model, callbacks\n",
    "from tensorflow.keras.optimizers import Adam\n",
    "from tensorflow.keras.preprocessing.image import ImageDataGenerator\n",
    "from tensorflow.keras.applications import ResNet50 # El modelo base que usaremos\n",
    "from tensorflow.keras.applications.resnet import preprocess_input # Función de preprocesamiento específica para ResNet\n",
    "from tensorflow.keras.metrics import AUC # Métrica de Área Bajo la Curva ROC\n",
    "\n",
    "# Configuración para la visualización y logs de TensorFlow\n",
    "sns.set_style(\"whitegrid\") # Estilo para los gráficos de Seaborn\n",
    "tf.get_logger().setLevel('ERROR') # Suprime mensajes informativos de TensorFlow, mostrando solo errores\n"
   ]
  },
  {
   "cell_type": "markdown",
   "id": "73442f3b",
   "metadata": {},
   "source": [
    "## 1.1 Definición de Rutas y Carga de Datos\n",
    "Las imágenes se encuentran almacenadas en un directorio local, estructurado con subcarpetas que representan cada una de las clases (categorías) de nuestro problema de clasificación.\n",
    "- **base_path:** Es el directorio raíz que contiene las subcarpetas de las categorías.\n",
    "- **categories:** Una lista con los nombres de las subcarpetas, que corresponden a nuestras etiquetas de clase (ej. \"Healthy\", \"Tumor\")."
   ]
  },
  {
   "cell_type": "code",
   "execution_count": null,
   "id": "becf0300",
   "metadata": {
    "vscode": {
     "languageId": "plaintext"
    }
   },
   "outputs": [],
   "source": [
    "base_path = \"/content/drive/MyDrive/ bootcamp experience/Machine Learning/mayo_2025/images\"  # Directorio raíz donde se encuentran las carpetas de categorías\n",
    "categories = [\"Healthy\", \"Tumor\"] # Nombres de las subcarpetas y nuestras clases\n",
    "\n",
    "image_paths = []  # Lista para almacenar las rutas a cada imagen\n",
    "labels = []       # Lista para almacenar la etiqueta de cada imagen\n",
    "\n",
    "# Iterar sobre cada categoría definida\n",
    "for category in categories:\n",
    "    category_path = os.path.join(base_path, category) # Construir la ruta a la carpeta de la categoría\n",
    "    if os.path.isdir(category_path):\n",
    "        # Iterar sobre cada archivo de imagen dentro de la carpeta de la categoría\n",
    "        for image_name in os.listdir(category_path):\n",
    "            image_path = os.path.join(category_path, image_name) # Ruta completa a la imagen\n",
    "            image_paths.append(image_path) # Añadir la ruta de la imagen a la lista\n",
    "            labels.append(category)        # Añadir la etiqueta (nombre de la categoría) a la lista\n",
    "    else:\n",
    "        print(f\"Advertencia: El directorio para la categoría '{category}' no fue encontrado en '{category_path}'\")"
   ]
  },
  {
   "cell_type": "code",
   "execution_count": null,
   "id": "376d1012",
   "metadata": {
    "vscode": {
     "languageId": "plaintext"
    }
   },
   "outputs": [],
   "source": [
    "# Crear un DataFrame de Pandas para almacenar las rutas de las imágenes y sus etiquetas\n",
    "df = pd.DataFrame({\"image_path\": image_paths, \"label\": labels})\n",
    "# Mostrar las primeras filas del DataFrame y la distribución de clases\n",
    "print(\"DataFrame inicial con rutas de imágenes y etiquetas:\")\n",
    "print(df.head())\n",
    "print(\"\\nDistribución de clases inicial:\")\n",
    "print(df['label'].value_counts())"
   ]
  }
 ],
 "metadata": {
  "language_info": {
   "name": "python"
  }
 },
 "nbformat": 4,
 "nbformat_minor": 5
}
